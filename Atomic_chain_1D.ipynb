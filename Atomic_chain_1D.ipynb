{
 "cells": [
  {
   "cell_type": "code",
   "execution_count": 1,
   "metadata": {},
   "outputs": [
    {
     "data": {
      "application/vnd.jupyter.widget-view+json": {
       "model_id": "fa43c80e5d8b477b88ec10766c81acba",
       "version_major": 2,
       "version_minor": 0
      },
      "text/plain": []
     },
     "metadata": {},
     "output_type": "display_data"
    }
   ],
   "source": [
    "import numpy as np\n",
    "import sys\n",
    "import os\n",
    "import re\n",
    "import matplotlib.pyplot as plt\n",
    "%matplotlib widget\n",
    "import matplotlib\n",
    "matplotlib.rcParams['figure.facecolor']='w'\n",
    "# matplotlib.rcParams['figure.autolayout']=True \n",
    "\n",
    "from sympy import *\n",
    "\n",
    "from ase.io.trajectory import Trajectory\n",
    "from ase import Atoms\n",
    "%load_ext autoreload\n",
    "%autoreload 2\n",
    "from NGLTrajectoryClass import NGLTrajectory\n",
    "\n",
    "import ipywidgets as widgets\n",
    "from ipywidgets import HBox, VBox\n",
    "import os\n",
    "\n"
   ]
  },
  {
   "cell_type": "code",
   "execution_count": 6,
   "metadata": {},
   "outputs": [
    {
     "data": {
      "application/vnd.jupyter.widget-view+json": {
       "model_id": "6906ef216aae4058b944d4906a88c8e1",
       "version_major": 2,
       "version_minor": 0
      },
      "text/plain": [
       "VBox(children=(Tab(children=(HBox(children=(VBox(children=(HBox(children=(HTMLMath(value='Amplitude', layout=L…"
      ]
     },
     "metadata": {},
     "output_type": "display_data"
    },
    {
     "data": {
      "application/vnd.jupyter.widget-view+json": {
       "model_id": "39a20be8728d4019a7c25d98b2e0428a",
       "version_major": 2,
       "version_minor": 0
      },
      "text/plain": [
       "HBox(children=(NGLWidget(max_frame=49),), layout=Layout(align_items='center', display='flex', flex_flow='colum…"
      ]
     },
     "metadata": {},
     "output_type": "display_data"
    }
   ],
   "source": [
    "traj=Trajectory('dummy.traj','w')\n",
    "traj.write(Atoms(2*'C',[[0,0,0],[1,1,1]]))\n",
    "traj.write(Atoms(2*'C',[[0,0,0],[1,1,1]]))\n",
    "handler=NGLTrajectory(trajectory=Trajectory('dummy.traj','r'))\n",
    "handler.widgetList.append(handler.slider_amplitude)\n",
    "handler.widgetList.append(handler.slider_M)\n",
    "handler.slider_atom_radius.value=0.1\n",
    "handler.slider_arrow_radius.value=0.1\n",
    "handler.tick_box.value=False\n",
    "handler.set_player_parameters(delay=handler.init_delay)\n",
    "handler.set_view_parameters(clipDist=1,quality='low')\n",
    "handler.tick_box.value=False\n",
    "handler.button_chain.value='diatomic'\n",
    "handler.compute_dispersion()\n",
    "handler.compute_dispersion_relation()\n",
    "handler.button_chain.value='monoatomic'\n",
    "handler.compute_dispersion()\n",
    "handler.compute_dispersion_relation()\n",
    "\n",
    "handler.compute_trajectory_1D()\n",
    "\n",
    "handler.band_dispersion()\n",
    "\n",
    "handler.set_view_dimensions()\n",
    "handler.atoms = HBox(\n",
    "    [VBox([HBox([handler.slider_amplitude_description,handler.slider_amplitude]), handler.output_ratio,HBox([handler.button_chain_description,handler.button_chain])]), handler.fig.canvas]\n",
    ")\n",
    "\n",
    "tab = widgets.Tab()\n",
    "\n",
    "tab.children = [handler.atoms, HBox([handler.arrow,HBox([handler.slider_atom_radius_description,handler.slider_atom_radius])]), HBox([handler.movie,handler.output_gif,handler.button_download])]\n",
    "titles = [\"Atoms\", \"Appearance\", \"Generate GIF\"]\n",
    "for i in range(3):\n",
    "    tab.set_title(i, titles[i])\n",
    "\n",
    "actions=VBox([tab,HBox([widgets.Label('Camera axis: '),handler.button_x,handler.button_y,handler.button_z])])\n",
    "layout = widgets.Layout(display='flex',\n",
    "                flex_flow='column',\n",
    "                align_items='center',)\n",
    "display(actions,HBox([handler.view],layout=layout))"
   ]
  },
  {
   "cell_type": "code",
   "execution_count": null,
   "metadata": {},
   "outputs": [],
   "source": []
  }
 ],
 "metadata": {
  "hide_input": false,
  "interpreter": {
   "hash": "e4cce46d6be9934fbd27f9ca0432556941ea5bdf741d4f4d64c6cd7f8dfa8fba"
  },
  "kernelspec": {
   "display_name": "Python 3.8.10 ('base')",
   "language": "python",
   "name": "python3"
  },
  "language_info": {
   "codemirror_mode": {
    "name": "ipython",
    "version": 3
   },
   "file_extension": ".py",
   "mimetype": "text/x-python",
   "name": "python",
   "nbconvert_exporter": "python",
   "pygments_lexer": "ipython3",
   "version": "3.8.10"
  }
 },
 "nbformat": 4,
 "nbformat_minor": 2
}
