{
 "cells": [
  {
   "cell_type": "markdown",
   "metadata": {},
   "source": [
    "# **Introduction to molecular vibrations**\n",
    "\n",
    "<i class=\"fa fa-home fa-2x\"></i><a href=\"../index.ipynb\" style=\"font-size: 20px\"> Go back to index</a>\n",
    "\n",
    "**Source code:** https://github.com/osscar-org/quantum-mechanics/blob/master/notebook/statistical-mechanics/ising_model.ipynb\n",
    "\n",
    "<hr style=\"height:1px;border:none;color:#cccccc;background-color:#cccccc;\" />"
   ]
  },
  {
   "cell_type": "markdown",
   "metadata": {},
   "source": [
    "<details>\n",
    "<summary style=\"color: red\">Learning objectives</summary>\n",
    "\n",
    "* Determine the number of vibrational degrees of freedom.\n",
    "* Compute the vibrational frequency from harmonic oscillator approximations.\n",
    "* Compute the energies corresponding to vibrational modes.\n",
    "* Examine the effect of molecular mass ratios on amplitude.\n",
    "* Investigate the effect of temperature on vibrational amplitude\n",
    "<\\details>"
   ]
  },
  {
   "cell_type": "markdown",
   "metadata": {},
   "source": [
    "<details>\n",
    "<summary style=\"color: black\">Background theory: harmonic oscillator</summary>\n",
    "\n",
    "Let assume we have a diatomic molecule with atoms having masses $M_1$ and $M_2$ in 1D. They are joined together with a spring of constant $k$. They move around their equilibrium positions with a frequency $\\omega$ :\n",
    "\\begin{equation}\n",
    "    x_i(t)=x_{0,i}+\\underbrace{A_i\\cos(\\omega t+\\phi)}_{=u_i(t)}\n",
    "\\end{equation}\n",
    "which is the solution to the harmonic oscillator equation $$M\\frac{d^2x}{dt^2}=-k(x-x_0)$$\n",
    "The equations of motion are then given by :\n",
    "\\begin{align*}\n",
    "    M_1\\frac{d^2x_1}{dt}=-k(x_2-x_1) \\\\\n",
    "    M_2\\frac{d^2x_2}{dt}=-k(x_1-x_2)\n",
    "\\end{align*}\n",
    "which can be translated to :\n",
    "\\begin{align}\n",
    "    M_1\\frac{d^2u_1}{dt}=-k(u_2-u_1) \\\\\n",
    "    M_2\\frac{d^2u_2}{dt}=-k(u_1-u_2)\n",
    "\\end{align}\n",
    "since we are interested in the displacement of the atoms and not their actual positions. Putting the general solution of an harmonic oscillator, Eq. , in Eqs. , we obtain :\n",
    "\\begin{align*}\n",
    "    M_1\\omega^2A_1=-k(A_2-A_1) \\\\\n",
    "    M_2\\omega^2A_2=-k(A_1-A_2)\n",
    "\\end{align*}\n",
    "Solving the system of equations gives us :\n",
    "\\begin{align}\n",
    "    A_1=-\\frac{M_2}{M_1}A_2 \\\\\n",
    "    \\omega=\\sqrt{\\frac{k}{\\mu}}\n",
    "\\end{align}\n",
    "where $\\mu=\\frac{M_1M_2}{M_1+M_2}$ is the reduced mass of the system.\n",
    "</details>\n"
   ]
  },
  {
   "cell_type": "markdown",
   "metadata": {},
   "source": [
    "<details>\n",
    "<summary style=\"color: black\">Background theory: LJ potential</summary>\n",
    "\n",
    "The harmonic oscillator model can be a good first approximation of vibrations in molecules or crystals. However, the spring constant between atoms is not known. Simulations are instead using inter-atomic potential from which forces can be derived. Recall that\n",
    "\\begin{equation}\n",
    "    F_x=-\\frac{dV}{dr}\n",
    "\\end{equation}\n",
    "The simplest inter-atomic potential is given by the Lennard-Jones potential : $$V(r)=4\\epsilon\\left(\\frac{\\sigma}{r}^{12}-\\frac{\\sigma}{r}^6\\right)$$\n",
    "where $\\epsilon$ and $\\sigma$ are atomic element dependent.\\\\\n",
    "The potential can be expressed in terms of its Taylor expansion around the equilibrium position $r_0$:\n",
    "\\begin{equation}\n",
    "    V(\\Delta r)=V_0+\\frac{\\partial V}{\\partial r}\\Delta r+\\frac{1}{2}\\frac{\\partial^2 V}{\\partial r^2}\\Delta r^2+...\n",
    "\\end{equation}\n",
    "Since $V_0$ is arbitrary and $\\frac{\\partial V}{\\partial r}\\Bigr|_{\\substack{r=r_0}}$, we obtain :\n",
    "\\begin{equation}\n",
    "    V(\\Delta r)\\approx cste + \\frac{1}{2}k\\Delta r ^2\n",
    "\\end{equation}\n",
    "and putting into Eq. :\n",
    "\\begin{equation}\n",
    "    F=-\\frac{dV}{dr}= -k\\Delta r\n",
    "\\end{equation}\n",
    "Each atom feels a linear elastic force, as in an harmonic oscillator, with $k=\\frac{\\partial^2 V}{\\partial r^2}\\Bigr|_{\\substack{r=r_0}}$ the force constant.\\\\\n",
    "While here the analytical potential is known and the second derivative can be explicitly computed, simulations resolve to using numerical approximations. Such approximations are done using finite differences :\n",
    "\\begin{equation}\n",
    "    \\frac{\\partial^2 V}{\\partial r^2}\\Bigr|_{\\substack{r=r_0}}\\approx \\frac{\\frac{\\partial^2 V}{\\partial r^2}\\Bigr|_{\\substack{r=r_0+h}}-2\\frac{\\partial^2 V}{\\partial r^2}\\Bigr|_{\\substack{r=r_0}}+\\frac{\\partial^2 V}{\\partial r^2}\\Bigr|_{\\substack{r=r_0-h}}}{h^2}\n",
    "\\end{equation}\n",
    "where $h$ is a small displacement.\n",
    "\n",
    "</details>"
   ]
  },
  {
   "cell_type": "markdown",
   "metadata": {},
   "source": [
    "## **Tasks and exercises**\n",
    "\n",
    "1. How many vibrational modes are expected for O2 ? How many for H2O ?\n",
    "    <details>\n",
    "    <summary style=\"color: red\">Solution</summary>\n",
    "    The total degrees of freedom in a molecule is given by 3N, where N is the number of atoms. This corresponds to 3 displacements (in x,y,z) as well as .... TO REWRITE ANYWAY\n",
    "    </details>\n",
    "\n",
    "2. Compare O2 and OH, what do you observe regarding oscillation amplitudes ?\n",
    "    <details>\n",
    "    <summary style=\"color: red\">Solution</summary>\n",
    "    H is light compared to O, moves a lot more\n",
    "    </details>\n",
    "3. Compare H2O and CO2, how many vibrational modes does each one have ? Looking at CO2, two with same energy... ? Can you explain the difference in energy between vibrational modes ? \n",
    "    <details>\n",
    "    <summary style=\"color: red\">Solution</summary>\n",
    "  \n",
    "    </details>\n",
    "\n",
    "4. Something to compute by hand or code. Like express d2V/dr2 in terms of forces (first order finite difference) instead of second order and have them compute frequency/energy for simplest molecule like O2 and compare\n",
    "    <details>\n",
    "    <summary style=\"color: red\">Solution</summary>\n",
    "  \n",
    "    </details>\n",
    "\n",
    "<hr style=\"height:1px;border:none;color:#cccccc;background-color:#cccccc;\" />"
   ]
  },
  {
   "cell_type": "code",
   "execution_count": 1,
   "metadata": {},
   "outputs": [
    {
     "data": {
      "application/vnd.jupyter.widget-view+json": {
       "model_id": "0c742391b3ac4116aa178db496780c76",
       "version_major": 2,
       "version_minor": 0
      },
      "text/plain": []
     },
     "metadata": {},
     "output_type": "display_data"
    }
   ],
   "source": [
    "from ase.io.trajectory import Trajectory\n",
    "\n",
    "import ipywidgets as widgets\n",
    "from ipywidgets import HBox, VBox\n",
    "from IPython.display import display\n",
    "%load_ext autoreload\n",
    "%autoreload 2\n",
    "\n",
    "from NGLMoleculeClass import NGLMolecule\n"
   ]
  },
  {
   "cell_type": "code",
   "execution_count": 2,
   "metadata": {},
   "outputs": [
    {
     "data": {
      "application/vnd.jupyter.widget-view+json": {
       "model_id": "748225fcebc64eb89c82679bd125978f",
       "version_major": 2,
       "version_minor": 0
      },
      "text/plain": [
       "Tab(children=(HBox(children=(VBox(children=(HBox(children=(HTMLMath(value='Molecule', layout=Layout(width='130…"
      ]
     },
     "metadata": {},
     "output_type": "display_data"
    },
    {
     "data": {
      "application/vnd.jupyter.widget-view+json": {
       "model_id": "68927c8af0c54d5f8b72c1a9677c2e3f",
       "version_major": 2,
       "version_minor": 0
      },
      "text/plain": [
       "HBox(children=(Label(value='Camera axis: '), Button(description='x', layout=Layout(width='50px'), style=Button…"
      ]
     },
     "metadata": {},
     "output_type": "display_data"
    },
    {
     "data": {
      "application/vnd.jupyter.widget-view+json": {
       "model_id": "453d28c582bc467db84ffd5d564a5614",
       "version_major": 2,
       "version_minor": 0
      },
      "text/plain": [
       "NGLWidget(max_frame=59)"
      ]
     },
     "metadata": {},
     "output_type": "display_data"
    }
   ],
   "source": [
    "traj = Trajectory('vibrations/O2.5.traj')\n",
    "w=NGLMolecule(trajectory=traj)\n",
    "w.set_view_dimensions()\n",
    "w.set_view_parameters(clipDist=5)\n",
    "w.set_player_parameters(delay=25)\n",
    "w.change_molecule()\n",
    " \n",
    "tab = widgets.Tab()\n",
    "atom=VBox([HBox([w.slider_atom_radius_description,w.slider_atom_radius]),HBox([w.slider_aspect_ratio_description,w.slider_aspect_ratio])])\n",
    "tab.children = [w.molecule, HBox([w.arrow,atom]),  HBox([w.movie,w.output_gif])]\n",
    "titles = [\"Molecule\", \"Appearance\", \" Generate GIF\"]\n",
    "for i in range(len(titles)):\n",
    "    tab.set_title(i, titles[i])\n",
    "display(tab,widgets.HBox([widgets.Label('Camera axis: '),w.button_x,w.button_y,w.button_z]),w.view)"
   ]
  },
  {
   "cell_type": "code",
   "execution_count": 3,
   "metadata": {},
   "outputs": [],
   "source": [
    "# from IPython.core.interactiveshell import InteractiveShell\n",
    "# InteractiveShell.ast_node_interactivity = \"all\"\n",
    "# from IPython import display\n",
    "# from pathlib import Path\n",
    "# gifPath = Path(\"movie.gif\")\n",
    "# # Display GIF in Jupyter, CoLab, IPython\n",
    "# with open(gifPath,'rb') as f:\n",
    "#     display.Image(data=f.read(), format='png',width=500,height=300)"
   ]
  },
  {
   "cell_type": "code",
   "execution_count": 4,
   "metadata": {},
   "outputs": [],
   "source": [
    "# import ipywidgets\n",
    "# from IPython.display import display\n",
    "\n",
    "# buttonA_widget = ipywidgets.Button(description='Button A')\n",
    "# buttonB_widget = ipywidgets.Button(description='Button B')\n",
    "\n",
    "# out = ipywidgets.Output()\n",
    "\n",
    "# with out:\n",
    "#     display(buttonA_widget)\n",
    "\n",
    "\n",
    "# def switchMode(x):\n",
    "#     out.clear_output()\n",
    "#     with out:\n",
    "#         display(buttonB_widget)\n",
    "\n",
    "\n",
    "# buttonA_widget.on_click(switchMode)\n",
    "# out"
   ]
  }
 ],
 "metadata": {
  "hide_input": false,
  "interpreter": {
   "hash": "e4cce46d6be9934fbd27f9ca0432556941ea5bdf741d4f4d64c6cd7f8dfa8fba"
  },
  "kernelspec": {
   "display_name": "Python 3 (ipykernel)",
   "language": "python",
   "name": "python3"
  },
  "language_info": {
   "codemirror_mode": {
    "name": "ipython",
    "version": 3
   },
   "file_extension": ".py",
   "mimetype": "text/x-python",
   "name": "python",
   "nbconvert_exporter": "python",
   "pygments_lexer": "ipython3",
   "version": "3.8.10"
  }
 },
 "nbformat": 4,
 "nbformat_minor": 2
}
