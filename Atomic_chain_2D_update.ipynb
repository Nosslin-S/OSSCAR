{
 "cells": [
  {
   "cell_type": "code",
   "execution_count": 1,
   "metadata": {},
   "outputs": [
    {
     "data": {
      "application/vnd.jupyter.widget-view+json": {
       "model_id": "d55861d9b79d4253a45c97f6ccdf015c",
       "version_major": 2,
       "version_minor": 0
      },
      "text/plain": []
     },
     "metadata": {},
     "output_type": "display_data"
    }
   ],
   "source": [
    "import matplotlib.pyplot as plt\n",
    "%matplotlib widget\n",
    "import matplotlib\n",
    "matplotlib.rcParams['figure.facecolor']='w'\n",
    "\n",
    "from ase.io.trajectory import Trajectory\n",
    "from ase import Atoms\n",
    "%load_ext autoreload\n",
    "%autoreload 2\n",
    "from NGLTrajectoryClass2D import NGLTrajectory2D\n",
    "# from NGLTrajectoryClass2DHoney import NGLTrajectory2DHoney\n",
    "import ipywidgets as widgets\n",
    "from ipywidgets import HBox, VBox, Layout, GridBox"
   ]
  },
  {
   "cell_type": "code",
   "execution_count": 2,
   "metadata": {
    "scrolled": false
   },
   "outputs": [
    {
     "data": {
      "application/vnd.jupyter.widget-view+json": {
       "model_id": "5692616a6edd4c3eb1a63b4b526d5bbc",
       "version_major": 2,
       "version_minor": 0
      },
      "text/plain": [
       "VBox(children=(Tab(children=(VBox(children=(GridBox(children=(VBox(children=(Output(),), layout=Layout(grid_ar…"
      ]
     },
     "metadata": {},
     "output_type": "display_data"
    },
    {
     "data": {
      "application/vnd.jupyter.widget-view+json": {
       "model_id": "5e01c97592eb466fbd055e958897024d",
       "version_major": 2,
       "version_minor": 0
      },
      "text/plain": [
       "HBox(children=(NGLWidget(max_frame=50),), layout=Layout(align_items='center', display='flex', flex_flow='colum…"
      ]
     },
     "metadata": {},
     "output_type": "display_data"
    }
   ],
   "source": [
    "traj=Trajectory('dummy.traj','w')\n",
    "traj.write(Atoms(2*'C',[[0,0,0],[1,1,1]]))\n",
    "traj.write(Atoms(2*'C',[[0,0,0],[1,1,1]]))\n",
    "\n",
    "handler=NGLTrajectory2D(trajectory=Trajectory('dummy.traj','r'))\n",
    "\n",
    "\n",
    "handler.tick_box.value=False\n",
    "handler.set_view_parameters(clipDist=1,quality='low')\n",
    "handler.slider_atom_radius.value=0.1\n",
    "handler.slider_arrow_radius.value=0.1\n",
    "handler.set_player_parameters(delay=handler.init_delay)\n",
    "handler.set_view_dimensions()\n",
    "\n",
    "handler.compute_dispersion_honey()\n",
    "handler.compute_trajectory_2D_honey()\n",
    "handler.initialize_2D_band_plot_honey()\n",
    "handler.initialize_paths_bands_honey()\n",
    "\n",
    "\n",
    "handler.compute_dispersion()\n",
    "handler.compute_trajectory_2D()\n",
    "handler.initialize_2D_band_plot()\n",
    "handler.initialize_paths_bands()\n",
    "\n",
    "\n",
    "with handler.output_plots:\n",
    "    display(HBox([handler.fig.canvas,handler.fig_.canvas]))\n",
    "\n",
    "with handler.output_force_constants:\n",
    "    display(VBox([HBox([handler.slider_C1_description, handler.slider_C1]),HBox([handler.slider_C2_description, handler.slider_C2])]))\n",
    "\n",
    "\n",
    "longitudinal=HBox([handler.button_longitudinal_description,handler.button_longitudinal])\n",
    "optic=HBox([handler.button_optic_description,handler.button_optic])\n",
    "with handler.output_branch:\n",
    "    display(longitudinal)\n",
    "# output_view_honey.layout.visibility='hidden'\n",
    "tab = widgets.Tab()\n",
    "atom=VBox([HBox([handler.slider_amplitude_description,handler.slider_amplitude]),HBox([handler.slider_atom_radius_description,handler.slider_atom_radius])])\n",
    "camera_position=VBox([HBox([handler.camera_orientation_description,handler.output_camera_position]),handler.text_orientation, handler.output_camera_position_error])\n",
    "lattice=HBox([handler.button_lattice_description,handler.button_lattice, ])\n",
    "\n",
    "\n",
    "\n",
    "left=VBox([lattice],layout=Layout(width='auto', grid_area='left'))\n",
    "middle=VBox([handler.output_branch],layout=Layout(width='auto', grid_area='middle',))\n",
    "right=HBox([handler.output_force_constants],layout=Layout(width='auto', grid_area='right'))\n",
    "\n",
    "parameters=GridBox(children=[middle,right,left],\n",
    "        layout=Layout(\n",
    "            width='90%',\n",
    "            grid_template_rows='auto auto',\n",
    "            grid_template_columns='30% 40% 30%',\n",
    "            grid_template_areas='''\n",
    "            \"left middle right \"\n",
    "            ''')\n",
    "       )\n",
    "\n",
    "tab.children = [VBox([parameters,handler.output_plots]), HBox([handler.arrow,atom]), HBox([handler.movie,handler.output_gif]), camera_position, HBox()]\n",
    "titles = [\"Phonon\", \"Appearance\", \"Generate GIF\", \"Camera settings\", 'Hide settings']\n",
    "for i in range(5):\n",
    "    tab.set_title(i, titles[i])\n",
    "\n",
    "actions=VBox([tab,HBox([widgets.Label('Camera axis: '),handler.button_x,handler.button_y,handler.button_z])])\n",
    "layout = widgets.Layout(display='flex',\n",
    "                flex_flow='column',\n",
    "                align_items='center',)\n",
    "display(actions,HBox([handler.view],layout=layout))"
   ]
  },
  {
   "cell_type": "markdown",
   "metadata": {},
   "source": [
    "<hr style=\"height:1px;border:none;color:#cccccc;background-color:#cccccc;\" />\n",
    "\n",
    "# Using the interactive visualization\n",
    "\n",
    "\n",
    "### Atom viewer\n",
    "The bottom view shows an interactive animation of a lattice vibration.\n",
    "Hover over the view to access the play and pause buttons.\n",
    "\n",
    "You can rotate the surface by clicking and dragging.\n",
    "You can reset the view by clicking the corresponding 'camera axis' buttons.\n",
    "A specific camera view can be given in the 'Advanced' tab.\n",
    "\n",
    "### Controls\n",
    "Under the 'Phonon' tab are two plots. \n",
    "\n",
    "The plot on the left shows the first Brillouin zone of either a square or honeycomb lattice.\n",
    "The plot on the right shows the dispersion relation along a specific path.\n",
    "\n",
    "Click on either plot to get the corresponding lattice vibration.\n",
    "\n",
    "### Appearance\n",
    "Under the 'Appearance' tab are parameters related to showing arrows along the oscillations or modifying the atoms appearance.\n",
    "\n",
    "### Generate GIF\n",
    "A GIF of the actual animation can be generated and downloaded.\n",
    "\n",
    "Different rendering resolutions can be selected for convenience.\n",
    "The animation speed will be reflected in the GIF animation speed.\n",
    "\n",
    "Clicking 'Render GIF' will start savings each frames of the animation and then compiling them into a GIF.\n",
    "During the GIF rendering, the view will flicker.\n",
    "Do not change browser window or the rendering will fail.\n",
    "\n",
    "Once the rendering has been successfully done, a preview of the GIF is shown. Right click on it to download the GIF.\n"
   ]
  }
 ],
 "metadata": {
  "hide_input": false,
  "interpreter": {
   "hash": "e4cce46d6be9934fbd27f9ca0432556941ea5bdf741d4f4d64c6cd7f8dfa8fba"
  },
  "kernelspec": {
   "display_name": "Python 3 (ipykernel)",
   "language": "python",
   "name": "python3"
  },
  "language_info": {
   "codemirror_mode": {
    "name": "ipython",
    "version": 3
   },
   "file_extension": ".py",
   "mimetype": "text/x-python",
   "name": "python",
   "nbconvert_exporter": "python",
   "pygments_lexer": "ipython3",
   "version": "3.8.10"
  }
 },
 "nbformat": 4,
 "nbformat_minor": 2
}
