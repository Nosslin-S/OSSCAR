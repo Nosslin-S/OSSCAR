{
 "cells": [
  {
   "cell_type": "code",
   "execution_count": 1,
   "metadata": {},
   "outputs": [
    {
     "data": {
      "application/vnd.jupyter.widget-view+json": {
       "model_id": "b11cbce0a2994c2999515a6cfbc0026b",
       "version_major": 2,
       "version_minor": 0
      },
      "text/plain": []
     },
     "metadata": {},
     "output_type": "display_data"
    }
   ],
   "source": [
    "import numpy as np\n",
    "import sys\n",
    "import os\n",
    "import re\n",
    "import matplotlib.pyplot as plt\n",
    "%matplotlib widget\n",
    "import matplotlib\n",
    "matplotlib.rcParams['figure.facecolor']='w'\n",
    "# matplotlib.rcParams['figure.autolayout']=True \n",
    "\n",
    "\n",
    "from ase.io.trajectory import Trajectory\n",
    "from ase import Atoms\n",
    "%load_ext autoreload\n",
    "%autoreload 2\n",
    "from NGLTrajectoryClass2D import NGLTrajectory2D\n",
    "# from NGLTrajectoryClass2DHoney import NGLTrajectory2DHoney\n",
    "import ipywidgets as widgets\n",
    "from ipywidgets import HBox, VBox\n",
    "import os\n",
    "import time\n"
   ]
  },
  {
   "cell_type": "code",
   "execution_count": 8,
   "metadata": {},
   "outputs": [
    {
     "data": {
      "application/vnd.jupyter.widget-view+json": {
       "model_id": "8bb1e4538aa640daa44f195c27fc2e9a",
       "version_major": 2,
       "version_minor": 0
      },
      "text/plain": [
       "VBox(children=(Tab(children=(Output(), HBox(children=(VBox(children=(HBox(children=(HTMLMath(value='Arrow ampl…"
      ]
     },
     "metadata": {},
     "output_type": "display_data"
    },
    {
     "data": {
      "application/vnd.jupyter.widget-view+json": {
       "model_id": "3fa1b23d00634292b780311f51d803a8",
       "version_major": 2,
       "version_minor": 0
      },
      "text/plain": [
       "HBox(children=(NGLWidget(max_frame=50),), layout=Layout(align_items='center', display='flex', flex_flow='colum…"
      ]
     },
     "metadata": {},
     "output_type": "display_data"
    }
   ],
   "source": [
    "traj=Trajectory('dummy.traj','w')\n",
    "traj.write(Atoms(2*'C',[[0,0,0],[1,1,1]]))\n",
    "traj.write(Atoms(2*'C',[[0,0,0],[1,1,1]]))\n",
    "\n",
    "handler=NGLTrajectory2D(trajectory=Trajectory('dummy.traj','r'))\n",
    "\n",
    "\n",
    "handler.tick_box.value=False\n",
    "handler.set_view_parameters(clipDist=1,quality='low')\n",
    "handler.slider_atom_radius.value=0.1\n",
    "handler.slider_arrow_radius.value=0.1\n",
    "handler.set_player_parameters(delay=handler.init_delay)\n",
    "handler.set_view_dimensions()\n",
    "\n",
    "handler.compute_dispersion_honey()\n",
    "handler.compute_trajectory_2D_honey()\n",
    "handler.initialize_2D_band_plot_honey()\n",
    "handler.initialize_paths_bands_honey()\n",
    "\n",
    "\n",
    "handler.compute_dispersion()\n",
    "handler.compute_trajectory_2D()\n",
    "handler.initialize_2D_band_plot()\n",
    "handler.initialize_paths_bands()\n",
    "\n",
    "\n",
    "with handler.output_plots:\n",
    "    display(HBox([handler.fig.canvas,handler.fig_.canvas]))\n",
    "\n",
    "\n",
    "\n",
    "# output_view_honey.layout.visibility='hidden'\n",
    "tab = widgets.Tab()\n",
    "atom=VBox([HBox([handler.slider_amplitude_description,handler.slider_amplitude]),HBox([handler.slider_atom_radius_description,handler.slider_atom_radius])])\n",
    "tab.children = [handler.output_plots, HBox([handler.arrow,atom]), HBox([handler.movie,handler.output_gif]), HBox()]\n",
    "titles = [\"Atoms\", \"Appearance\", \"Generate GIF\", 'Hide']\n",
    "for i in range(4):\n",
    "    tab.set_title(i, titles[i])\n",
    "\n",
    "actions=VBox([tab,HBox([widgets.Label('Camera axis: '),handler.button_x,handler.button_y,handler.button_z,HBox([handler.button_lattice,handler.output_branch])])])\n",
    "layout = widgets.Layout(display='flex',\n",
    "                flex_flow='column',\n",
    "                align_items='center',)\n",
    "display(actions,HBox([handler.view],layout=layout))"
   ]
  },
  {
   "cell_type": "code",
   "execution_count": null,
   "metadata": {},
   "outputs": [],
   "source": [
    "# def on_change(event):\n",
    "#     with output_plots:\n",
    "#         if button_lattice.value=='square':\n",
    "#             output_plots.clear_output()\n",
    "#             display(HBox([handler.fig.canvas,handler.fig_.canvas]))\n",
    "            \n",
    "#         elif button_lattice.value=='honeycomb':\n",
    "#             output_plots.clear_output()\n",
    "#             display(HBox([handler_honey.fig.canvas,handler_honey.fig_.canvas]))\n",
    "            \n",
    "#     # with output_view:\n",
    "#     #     if button_lattice.value=='square':\n",
    "#     #         # output_view.clear_output()\n",
    "#     #         output_view.outputs=()\n",
    "#     #         display(handler.view)\n",
    "#     #     elif button_lattice.value=='honeycomb':\n",
    "#     #         # output_view.clear_output()\n",
    "#     #         output_view.outputs=()\n",
    "#     #         display(handler_honey.view)\n",
    "#     # if button_lattice.value=='square':\n",
    "#     #     output_view_honey.layout.visibility='hidden'\n",
    "#     #     output_view_square.layout.visibility='visible'\n",
    "#     # if button_lattice.value=='honeycomb':\n",
    "#     #     output_view_square.layout.visibility='hidden'\n",
    "#     #     output_view_honey.layout.visibility='visible'\n",
    "#     if button_lattice.value=='square':\n",
    "#         handler.compute_trajectory_2D()\n",
    "#         handler.view.control.zoom(0.5)\n",
    "#     elif button_lattice.value=='honeycomb':\n",
    "#         handler_honey.compute_trajectory_2D()\n",
    "#         handler_honey.view.control.zoom(-2)\n",
    "#     with output_branch:\n",
    "#         if button_lattice.value=='square':\n",
    "#             output_branch.clear_output()\n",
    "#         elif button_lattice.value=='honeycomb':\n",
    "#             output_branch.clear_output()\n",
    "#             display(handler_honey.button_optic)\n",
    "            \n",
    "# output_plots=widgets.Output()\n",
    "# output_view=widgets.Output()\n",
    "# output_view_square=widgets.Output()\n",
    "# output_view_honey=widgets.Output()\n",
    "# output_branch=widgets.Output()\n",
    "# button_lattice=widgets.RadioButtons(options=['square','honeycomb'],value='square',description='Lattice')\n",
    "# button_lattice.observe(on_change,'value')\n",
    "# # button_lattice.observe(on_change,'value')"
   ]
  },
  {
   "cell_type": "code",
   "execution_count": 1,
   "metadata": {},
   "outputs": [],
   "source": [
    "# traj=Trajectory('dummy.traj','w')\n",
    "# traj.write(Atoms(2*'C',[[0,0,0],[1,1,1]]))\n",
    "# traj.write(Atoms(2*'C',[[0,0,0],[1,1,1]]))\n",
    "\n",
    "# handler=NGLTrajectory2D(trajectory=Trajectory('dummy.traj','r'))\n",
    "\n",
    "\n",
    "# handler.tick_box.value=False\n",
    "# handler.set_view_parameters(clipDist=1,quality='low')\n",
    "# handler.radius=0.1\n",
    "# handler.slider_arrow_radius.value=0.1\n",
    "# handler.set_player_parameters(delay=handler.init_delay)\n",
    "# handler.set_view_dimensions()\n",
    "\n",
    "\n",
    "# handler.compute_dispersion()\n",
    "# handler.compute_trajectory_2D()\n",
    "# handler.initialize_2D_band_plot()\n",
    "# handler.initialize_paths_bands()\n",
    "# handler.view.control.zoom(0.5)\n",
    "\n",
    "\n",
    "# handler_honey=NGLTrajectory2DHoney(trajectory=Trajectory('dummy.traj','r'),view=handler.view)\n",
    "# # Initialize some visual aspects\n",
    "# handler_honey.tick_box.value=False\n",
    "# handler_honey.set_view_parameters(clipDist=1,quality='low')\n",
    "# handler_honey.radius=0.1\n",
    "# handler_honey.slider_arrow_radius.value=0.1\n",
    "# handler_honey.set_player_parameters(delay=handler_honey.init_delay)\n",
    "# handler_honey.set_view_dimensions()\n",
    "\n",
    "# handler_honey.compute_dispersion()\n",
    "# # handler_honey.compute_trajectory_2D()\n",
    "# handler_honey.initialize_2D_band_plot()\n",
    "# handler_honey.initialize_paths_bands()\n",
    "\n",
    "# with output_plots:\n",
    "#     display(HBox([handler.fig.canvas,handler.fig_.canvas]))\n",
    "\n",
    "# with output_view:\n",
    "#     display(handler.view)\n",
    "\n",
    "\n",
    "# # output_view_honey.layout.visibility='hidden'\n",
    "# tab = widgets.Tab()\n",
    "\n",
    "# tab.children = [output_plots, VBox([handler.arrow,HBox([handler.slider_amplitude_description,handler.slider_amplitude])]), HBox([handler.movie,handler.output_gif]), HBox()]\n",
    "# titles = [\"Atoms\", \"Appearance\", \"Generate GIF\", 'Hide']\n",
    "# for i in range(4):\n",
    "#     tab.set_title(i, titles[i])\n",
    "\n",
    "# actions=VBox([tab,HBox([widgets.Label('Camera axis: '),handler.button_x,handler.button_y,handler.button_z,HBox([button_lattice,output_branch])])])\n",
    "# layout = widgets.Layout(display='flex',\n",
    "#                 flex_flow='column',\n",
    "#                 align_items='center',)\n",
    "# display(actions,HBox([output_view]),layout=layout)"
   ]
  },
  {
   "cell_type": "code",
   "execution_count": 9,
   "metadata": {},
   "outputs": [
    {
     "data": {
      "application/vnd.jupyter.widget-view+json": {
       "model_id": "3997d8bfbe5b4a228d6f457dc5d8be3c",
       "version_major": 2,
       "version_minor": 0
      },
      "text/plain": [
       "VBox(children=(Tab(children=(HBox(children=(Canvas(footer_visible=False, header_visible=False, toolbar=Toolbar…"
      ]
     },
     "metadata": {},
     "output_type": "display_data"
    },
    {
     "data": {
      "application/vnd.jupyter.widget-view+json": {
       "model_id": "35f810507f254b7aa8de02db77996dbc",
       "version_major": 2,
       "version_minor": 0
      },
      "text/plain": [
       "HBox(children=(NGLWidget(max_frame=49),), layout=Layout(align_items='center', display='flex', flex_flow='colum…"
      ]
     },
     "metadata": {},
     "output_type": "display_data"
    }
   ],
   "source": [
    "# traj=Trajectory('dummy.traj','w')\n",
    "# traj.write(Atoms(2*'C',[[0,0,0],[1,1,1]]))\n",
    "# traj.write(Atoms(2*'C',[[0,0,0],[1,1,1]]))\n",
    "# handler=NGLTrajectory2D(trajectory=Trajectory('dummy.traj','r'))\n",
    "\n",
    "# handler.tick_box.value=False\n",
    "# # handler.set_player_parameters(delay=handler.init_delay)\n",
    "# handler.set_view_parameters(clipDist=1,quality='low')\n",
    "# handler.radius=0.1\n",
    "# handler.slider_arrow_radius.value=0.1\n",
    "# handler.set_player_parameters(delay=handler.init_delay)\n",
    "\n",
    "# handler.compute_dispersion()\n",
    "\n",
    "# handler.compute_trajectory_2D()\n",
    "# handler.initialize_2D_band_plot()\n",
    "# handler.initialize_paths_bands()\n",
    "\n",
    "# handler.set_view_dimensions()\n",
    "# handler.atoms = HBox(\n",
    "#     [handler.fig.canvas,handler.fig_.canvas]\n",
    "# )\n",
    "\n",
    "# tab = widgets.Tab()\n",
    "\n",
    "# tab.children = [handler.atoms, VBox([handler.arrow,HBox([handler.slider_amplitude_description,handler.slider_amplitude])]), HBox([handler.movie,handler.output_gif]), HBox()]\n",
    "# titles = [\"Atoms\", \"Appearance\", \"Generate GIF\", 'Hide']\n",
    "# for i in range(4):\n",
    "#     tab.set_title(i, titles[i])\n",
    "\n",
    "# actions=VBox([tab,HBox([widgets.Label('Camera axis: '),handler.button_x,handler.button_y,handler.button_z])])\n",
    "# layout = widgets.Layout(display='flex',\n",
    "#                 flex_flow='column',\n",
    "#                 align_items='center',)\n",
    "# display(actions,HBox([handler.view],layout=layout))"
   ]
  },
  {
   "cell_type": "code",
   "execution_count": null,
   "metadata": {},
   "outputs": [],
   "source": []
  }
 ],
 "metadata": {
  "hide_input": false,
  "interpreter": {
   "hash": "e4cce46d6be9934fbd27f9ca0432556941ea5bdf741d4f4d64c6cd7f8dfa8fba"
  },
  "kernelspec": {
   "display_name": "Python 3 (ipykernel)",
   "language": "python",
   "name": "python3"
  },
  "language_info": {
   "codemirror_mode": {
    "name": "ipython",
    "version": 3
   },
   "file_extension": ".py",
   "mimetype": "text/x-python",
   "name": "python",
   "nbconvert_exporter": "python",
   "pygments_lexer": "ipython3",
   "version": "3.8.10"
  }
 },
 "nbformat": 4,
 "nbformat_minor": 2
}
